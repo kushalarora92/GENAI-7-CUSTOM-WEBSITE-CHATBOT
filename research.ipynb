{
 "cells": [
  {
   "cell_type": "code",
   "execution_count": 5,
   "metadata": {},
   "outputs": [
    {
     "name": "stdout",
     "output_type": "stream",
     "text": [
      "Requirement already satisfied: tokenizers in /Users/kushalarora/.pyenv/versions/3.11.1/lib/python3.11/site-packages (0.21.0)\n",
      "Requirement already satisfied: huggingface-hub<1.0,>=0.16.4 in /Users/kushalarora/.pyenv/versions/3.11.1/lib/python3.11/site-packages (from tokenizers) (0.29.1)\n",
      "Requirement already satisfied: filelock in /Users/kushalarora/.pyenv/versions/3.11.1/lib/python3.11/site-packages (from huggingface-hub<1.0,>=0.16.4->tokenizers) (3.17.0)\n",
      "Requirement already satisfied: fsspec>=2023.5.0 in /Users/kushalarora/.pyenv/versions/3.11.1/lib/python3.11/site-packages (from huggingface-hub<1.0,>=0.16.4->tokenizers) (2025.2.0)\n",
      "Requirement already satisfied: packaging>=20.9 in /Users/kushalarora/.pyenv/versions/3.11.1/lib/python3.11/site-packages (from huggingface-hub<1.0,>=0.16.4->tokenizers) (24.2)\n",
      "Requirement already satisfied: pyyaml>=5.1 in /Users/kushalarora/.pyenv/versions/3.11.1/lib/python3.11/site-packages (from huggingface-hub<1.0,>=0.16.4->tokenizers) (6.0.2)\n",
      "Requirement already satisfied: requests in /Users/kushalarora/.pyenv/versions/3.11.1/lib/python3.11/site-packages (from huggingface-hub<1.0,>=0.16.4->tokenizers) (2.32.3)\n",
      "Requirement already satisfied: tqdm>=4.42.1 in /Users/kushalarora/.pyenv/versions/3.11.1/lib/python3.11/site-packages (from huggingface-hub<1.0,>=0.16.4->tokenizers) (4.67.1)\n",
      "Requirement already satisfied: typing-extensions>=3.7.4.3 in /Users/kushalarora/.pyenv/versions/3.11.1/lib/python3.11/site-packages (from huggingface-hub<1.0,>=0.16.4->tokenizers) (4.12.2)\n",
      "Requirement already satisfied: charset-normalizer<4,>=2 in /Users/kushalarora/.pyenv/versions/3.11.1/lib/python3.11/site-packages (from requests->huggingface-hub<1.0,>=0.16.4->tokenizers) (3.4.1)\n",
      "Requirement already satisfied: idna<4,>=2.5 in /Users/kushalarora/.pyenv/versions/3.11.1/lib/python3.11/site-packages (from requests->huggingface-hub<1.0,>=0.16.4->tokenizers) (3.10)\n",
      "Requirement already satisfied: urllib3<3,>=1.21.1 in /Users/kushalarora/.pyenv/versions/3.11.1/lib/python3.11/site-packages (from requests->huggingface-hub<1.0,>=0.16.4->tokenizers) (2.3.0)\n",
      "Requirement already satisfied: certifi>=2017.4.17 in /Users/kushalarora/.pyenv/versions/3.11.1/lib/python3.11/site-packages (from requests->huggingface-hub<1.0,>=0.16.4->tokenizers) (2025.1.31)\n",
      "Requirement already satisfied: faiss-cpu in /Users/kushalarora/.pyenv/versions/3.11.1/lib/python3.11/site-packages (1.10.0)\n",
      "Requirement already satisfied: numpy<3.0,>=1.25.0 in /Users/kushalarora/.pyenv/versions/3.11.1/lib/python3.11/site-packages (from faiss-cpu) (1.26.4)\n",
      "Requirement already satisfied: packaging in /Users/kushalarora/.pyenv/versions/3.11.1/lib/python3.11/site-packages (from faiss-cpu) (24.2)\n",
      "Requirement already satisfied: numpy in /Users/kushalarora/.pyenv/versions/3.11.1/lib/python3.11/site-packages (1.26.4)\n",
      "Requirement already satisfied: nltk in /Users/kushalarora/.pyenv/versions/3.11.1/lib/python3.11/site-packages (3.9.1)\n",
      "Requirement already satisfied: click in /Users/kushalarora/.pyenv/versions/3.11.1/lib/python3.11/site-packages (from nltk) (8.1.8)\n",
      "Requirement already satisfied: joblib in /Users/kushalarora/.pyenv/versions/3.11.1/lib/python3.11/site-packages (from nltk) (1.4.2)\n",
      "Requirement already satisfied: regex>=2021.8.3 in /Users/kushalarora/.pyenv/versions/3.11.1/lib/python3.11/site-packages (from nltk) (2024.11.6)\n",
      "Requirement already satisfied: tqdm in /Users/kushalarora/.pyenv/versions/3.11.1/lib/python3.11/site-packages (from nltk) (4.67.1)\n"
     ]
    }
   ],
   "source": [
    "!pip -q install langchain langchain_community\n",
    "!pip -q install pypdf\n",
    "!pip -q install sentence_transformers\n",
    "!pip -q install openai\n",
    "!pip -q install tiktoken\n",
    "\n",
    "!pip install tokenizers\n",
    "!pip install faiss-cpu\n",
    "!pip -q install unstructured\n",
    "\n",
    "!pip install numpy\n",
    "!pip install nltk"
   ]
  },
  {
   "cell_type": "code",
   "execution_count": null,
   "metadata": {},
   "outputs": [],
   "source": []
  },
  {
   "cell_type": "code",
   "execution_count": null,
   "metadata": {},
   "outputs": [],
   "source": [
    "loaders = UnstructuredURLLoader(URLs)"
   ]
  }
 ],
 "metadata": {
  "kernelspec": {
   "display_name": "Python 3",
   "language": "python",
   "name": "python3"
  },
  "language_info": {
   "codemirror_mode": {
    "name": "ipython",
    "version": 3
   },
   "file_extension": ".py",
   "mimetype": "text/x-python",
   "name": "python",
   "nbconvert_exporter": "python",
   "pygments_lexer": "ipython3",
   "version": "3.11.1"
  }
 },
 "nbformat": 4,
 "nbformat_minor": 2
}
